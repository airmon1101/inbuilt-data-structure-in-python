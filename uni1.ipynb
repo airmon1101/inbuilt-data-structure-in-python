{
  "nbformat": 4,
  "nbformat_minor": 0,
  "metadata": {
    "colab": {
      "provenance": []
    },
    "kernelspec": {
      "name": "python3",
      "display_name": "Python 3"
    },
    "language_info": {
      "name": "python"
    }
  },
  "cells": [
    {
      "cell_type": "code",
      "execution_count": 4,
      "metadata": {
        "colab": {
          "base_uri": "https://localhost:8080/"
        },
        "id": "gagEnmZ2pSTE",
        "outputId": "0fb1124d-a1cb-4a82-abfd-827298ab26cb"
      },
      "outputs": [
        {
          "output_type": "execute_result",
          "data": {
            "text/plain": [
              "list"
            ]
          },
          "metadata": {},
          "execution_count": 4
        }
      ],
      "source": [
        "# create a list\n",
        "mylist = []\n",
        "type(mylist)"
      ]
    },
    {
      "cell_type": "code",
      "source": [
        "names = [\"Google\", \"Amazon\", \"Github\"]\n",
        "names"
      ],
      "metadata": {
        "colab": {
          "base_uri": "https://localhost:8080/"
        },
        "id": "5QUNne_cpxQv",
        "outputId": "f956cdd2-31f9-4a79-d40f-a348cec8b526"
      },
      "execution_count": 6,
      "outputs": [
        {
          "output_type": "execute_result",
          "data": {
            "text/plain": [
              "['Google', 'Amazon', 'Github']"
            ]
          },
          "metadata": {},
          "execution_count": 6
        }
      ]
    },
    {
      "cell_type": "code",
      "source": [
        "mixed_list = [\"Apple\", 1.12, 1, 2, 3, 4, True, False]\n",
        "mixed_list"
      ],
      "metadata": {
        "colab": {
          "base_uri": "https://localhost:8080/"
        },
        "id": "44GxFUCQqAOw",
        "outputId": "052a9ff3-81a9-4aca-8edd-0942234d669c"
      },
      "execution_count": 9,
      "outputs": [
        {
          "output_type": "execute_result",
          "data": {
            "text/plain": [
              "['Apple', 1.12, 1, 2, 3, 4, True, False]"
            ]
          },
          "metadata": {},
          "execution_count": 9
        }
      ]
    },
    {
      "cell_type": "code",
      "source": [
        "type(mixed_list)"
      ],
      "metadata": {
        "colab": {
          "base_uri": "https://localhost:8080/"
        },
        "id": "xnx3uoGmqQPR",
        "outputId": "e8245542-088f-4d0c-d13b-9bff3b3095ab"
      },
      "execution_count": 11,
      "outputs": [
        {
          "output_type": "execute_result",
          "data": {
            "text/plain": [
              "list"
            ]
          },
          "metadata": {},
          "execution_count": 11
        }
      ]
    },
    {
      "cell_type": "code",
      "source": [
        "### Accessing List Elements\n",
        "fruits = [\"apple\", \"banana\", \"cherry\", \"kiwi\", \"gauva\"]\n",
        "fruits"
      ],
      "metadata": {
        "colab": {
          "base_uri": "https://localhost:8080/"
        },
        "id": "eTqKWD_OqUzW",
        "outputId": "1ffe36f7-61a0-45c5-d8f9-5fb1228f617a"
      },
      "execution_count": 16,
      "outputs": [
        {
          "output_type": "execute_result",
          "data": {
            "text/plain": [
              "['apple', 'banana', 'cherry', 'kiwi', 'gauva']"
            ]
          },
          "metadata": {},
          "execution_count": 16
        }
      ]
    },
    {
      "cell_type": "code",
      "source": [
        "print(fruits[0])\n",
        "print(fruits[2])\n",
        "print(fruits[3])\n",
        "print(fruits[4])\n",
        "print(fruits[-1])"
      ],
      "metadata": {
        "colab": {
          "base_uri": "https://localhost:8080/"
        },
        "id": "20zIUNgqqgWG",
        "outputId": "4665998b-f1c0-4f83-de1c-4cf421b59bb5"
      },
      "execution_count": 17,
      "outputs": [
        {
          "output_type": "stream",
          "name": "stdout",
          "text": [
            "apple\n",
            "cherry\n",
            "kiwi\n",
            "gauva\n",
            "gauva\n"
          ]
        }
      ]
    },
    {
      "cell_type": "code",
      "source": [
        "print(f\"'0 = {fruits[0]}', '1 = {fruits[1]}', '2 = {fruits[2]}', '3 = {fruits[3]}', '4 = {fruits[4]}'\")\n",
        "print(fruits[1:])\n",
        "print(fruits[1:3])"
      ],
      "metadata": {
        "colab": {
          "base_uri": "https://localhost:8080/"
        },
        "id": "SQb5lBolsYA1",
        "outputId": "48bdef9e-5a3f-425b-9292-df766504d039"
      },
      "execution_count": 28,
      "outputs": [
        {
          "output_type": "stream",
          "name": "stdout",
          "text": [
            "'0 = apple', '1 = banana', '2 = cherry', '3 = kiwi', '4 = gauva'\n",
            "['banana', 'cherry', 'kiwi', 'gauva']\n",
            "['banana', 'cherry']\n"
          ]
        }
      ]
    },
    {
      "cell_type": "code",
      "source": [
        "## Modifying The List Elements\n",
        "fruits[0] = \"Mango\""
      ],
      "metadata": {
        "id": "Cd5jOj9DvD1u"
      },
      "execution_count": 33,
      "outputs": []
    },
    {
      "cell_type": "code",
      "source": [
        "fruits"
      ],
      "metadata": {
        "colab": {
          "base_uri": "https://localhost:8080/"
        },
        "id": "2qWMcu-jvR7i",
        "outputId": "ad203533-bd4e-4492-8322-cb3c1e7ae169"
      },
      "execution_count": 35,
      "outputs": [
        {
          "output_type": "execute_result",
          "data": {
            "text/plain": [
              "['Mango', 'banana', 'cherry', 'kiwi', 'gauva']"
            ]
          },
          "metadata": {},
          "execution_count": 35
        }
      ]
    },
    {
      "cell_type": "code",
      "source": [
        "# Reset fruits\n",
        "fruits = [\"apple\", \"banana\", \"cherry\", \"kiwi\", \"gauva\"]\n",
        "fruits"
      ],
      "metadata": {
        "colab": {
          "base_uri": "https://localhost:8080/"
        },
        "id": "DC6ZjWFDwGCr",
        "outputId": "329de5d4-0631-46d0-b407-4c9670952bfe"
      },
      "execution_count": 92,
      "outputs": [
        {
          "output_type": "execute_result",
          "data": {
            "text/plain": [
              "['apple', 'banana', 'cherry', 'kiwi', 'gauva']"
            ]
          },
          "metadata": {},
          "execution_count": 92
        }
      ]
    },
    {
      "cell_type": "code",
      "source": [
        "# List Methods\n",
        "\n",
        "fruits.append(\"orange\") # Add an item to the end\n",
        "print(fruits)"
      ],
      "metadata": {
        "colab": {
          "base_uri": "https://localhost:8080/"
        },
        "id": "G1NO1fefwLTE",
        "outputId": "ac8e5d5b-9768-4e96-9512-c3b36a4db30f"
      },
      "execution_count": 93,
      "outputs": [
        {
          "output_type": "stream",
          "name": "stdout",
          "text": [
            "['apple', 'banana', 'cherry', 'kiwi', 'gauva', 'orange']\n"
          ]
        }
      ]
    },
    {
      "cell_type": "code",
      "source": [
        "fruits.insert(3, \"watermelon\") # '.insert(index_no, \"item_name\")'\n",
        "fruits"
      ],
      "metadata": {
        "colab": {
          "base_uri": "https://localhost:8080/"
        },
        "id": "eiKy-kplwi-d",
        "outputId": "2ee94fb9-c64b-465e-8600-8bdf256e4808"
      },
      "execution_count": 94,
      "outputs": [
        {
          "output_type": "execute_result",
          "data": {
            "text/plain": [
              "['apple', 'banana', 'cherry', 'watermelon', 'kiwi', 'gauva', 'orange']"
            ]
          },
          "metadata": {},
          "execution_count": 94
        }
      ]
    },
    {
      "cell_type": "code",
      "source": [
        "fruits.remove(\"watermelon\") # Removing the first occurance of an item\n",
        "fruits"
      ],
      "metadata": {
        "colab": {
          "base_uri": "https://localhost:8080/"
        },
        "id": "VtgIXujkxbSt",
        "outputId": "4d60161d-2fd0-4939-cb9e-8944f52e1d57"
      },
      "execution_count": 95,
      "outputs": [
        {
          "output_type": "execute_result",
          "data": {
            "text/plain": [
              "['apple', 'banana', 'cherry', 'kiwi', 'gauva', 'orange']"
            ]
          },
          "metadata": {},
          "execution_count": 95
        }
      ]
    },
    {
      "cell_type": "code",
      "source": [
        "## Remove and return the last element\n",
        "poped_fruits = fruits.pop()\n",
        "print(poped_fruits)\n",
        "print(fruits)"
      ],
      "metadata": {
        "colab": {
          "base_uri": "https://localhost:8080/"
        },
        "id": "I3wqNYOgx-8k",
        "outputId": "d9980f8f-c06d-4cb8-c1e4-23dcc61f917c"
      },
      "execution_count": 96,
      "outputs": [
        {
          "output_type": "stream",
          "name": "stdout",
          "text": [
            "orange\n",
            "['apple', 'banana', 'cherry', 'kiwi', 'gauva']\n"
          ]
        }
      ]
    },
    {
      "cell_type": "code",
      "source": [
        "index = fruits.index(\"kiwi\")\n",
        "print(index)"
      ],
      "metadata": {
        "colab": {
          "base_uri": "https://localhost:8080/"
        },
        "id": "asQF-vsmyQ7a",
        "outputId": "b722bd14-f25e-4036-f825-b4607e111591"
      },
      "execution_count": 97,
      "outputs": [
        {
          "output_type": "stream",
          "name": "stdout",
          "text": [
            "3\n"
          ]
        }
      ]
    },
    {
      "cell_type": "code",
      "source": [
        "fruits.insert(3, \"banana\")\n",
        "print(fruits.count(\"banana\"))\n",
        "print(fruits)"
      ],
      "metadata": {
        "colab": {
          "base_uri": "https://localhost:8080/"
        },
        "id": "tLeHRvAPzXEX",
        "outputId": "5318b71d-749d-43d9-ca31-93025515b5f6"
      },
      "execution_count": 98,
      "outputs": [
        {
          "output_type": "stream",
          "name": "stdout",
          "text": [
            "2\n",
            "['apple', 'banana', 'cherry', 'banana', 'kiwi', 'gauva']\n"
          ]
        }
      ]
    },
    {
      "cell_type": "code",
      "source": [
        "fruits.sort() ## Sorts the list in ascending order (A-Z)"
      ],
      "metadata": {
        "id": "DEBoFj0_zsPs"
      },
      "execution_count": 99,
      "outputs": []
    },
    {
      "cell_type": "code",
      "source": [
        "fruits"
      ],
      "metadata": {
        "colab": {
          "base_uri": "https://localhost:8080/"
        },
        "id": "kgLYiBaC0a4Y",
        "outputId": "70e20d39-2444-4016-f4e2-0e34f3595517"
      },
      "execution_count": 101,
      "outputs": [
        {
          "output_type": "execute_result",
          "data": {
            "text/plain": [
              "['apple', 'banana', 'banana', 'cherry', 'gauva', 'kiwi']"
            ]
          },
          "metadata": {},
          "execution_count": 101
        }
      ]
    },
    {
      "cell_type": "code",
      "source": [
        "fruits.reverse() #Reverse the list (Z-A)"
      ],
      "metadata": {
        "id": "00NTjPsZ0doj"
      },
      "execution_count": 102,
      "outputs": []
    },
    {
      "cell_type": "code",
      "source": [
        "fruits"
      ],
      "metadata": {
        "colab": {
          "base_uri": "https://localhost:8080/"
        },
        "id": "F2MVszYi0sag",
        "outputId": "c463682a-d2aa-486f-cccc-84452d0acdde"
      },
      "execution_count": 105,
      "outputs": [
        {
          "output_type": "execute_result",
          "data": {
            "text/plain": [
              "['kiwi', 'gauva', 'cherry', 'banana', 'banana', 'apple']"
            ]
          },
          "metadata": {},
          "execution_count": 105
        }
      ]
    },
    {
      "cell_type": "code",
      "source": [
        "fruits.clear() ## Remove all items from the list\n",
        "print(fruits)"
      ],
      "metadata": {
        "colab": {
          "base_uri": "https://localhost:8080/"
        },
        "id": "Gizo63Le0txG",
        "outputId": "b10f1f8e-07b3-4feb-a88f-78848de93490"
      },
      "execution_count": 106,
      "outputs": [
        {
          "output_type": "stream",
          "name": "stdout",
          "text": [
            "[]\n"
          ]
        }
      ]
    },
    {
      "cell_type": "code",
      "source": [
        "## Slicing list"
      ],
      "metadata": {
        "id": "m531hKrz2z4Q"
      },
      "execution_count": 108,
      "outputs": []
    },
    {
      "cell_type": "code",
      "source": [
        "numbers = [1, 2, 3, 4, 5, 6, 7, 8, 9, 10]\n",
        "print(numbers[2:5])\n",
        "print(numbers[:5])\n",
        "print(numbers[5:])\n",
        "print(numbers[::2])\n",
        "print(numbers[::-1])"
      ],
      "metadata": {
        "colab": {
          "base_uri": "https://localhost:8080/"
        },
        "id": "hhk3Byfj22Bd",
        "outputId": "e5266d00-8929-4295-a732-f03f5971f8f0"
      },
      "execution_count": 111,
      "outputs": [
        {
          "output_type": "stream",
          "name": "stdout",
          "text": [
            "[3, 4, 5]\n",
            "[1, 2, 3, 4, 5]\n",
            "[6, 7, 8, 9, 10]\n",
            "[1, 3, 5, 7, 9]\n",
            "[10, 9, 8, 7, 6, 5, 4, 3, 2, 1]\n"
          ]
        }
      ]
    },
    {
      "cell_type": "code",
      "source": [
        "print(numbers[::]) # All the elements\n",
        "print(numbers[::1]) # [::step_size]\n",
        "print(numbers[::2])\n",
        "print(numbers[::3])\n"
      ],
      "metadata": {
        "colab": {
          "base_uri": "https://localhost:8080/"
        },
        "id": "jrm6koe83Q6N",
        "outputId": "ca2e5a80-8a78-42ba-fbd0-f93b897a8d92"
      },
      "execution_count": 114,
      "outputs": [
        {
          "output_type": "stream",
          "name": "stdout",
          "text": [
            "[1, 2, 3, 4, 5, 6, 7, 8, 9, 10]\n",
            "[1, 2, 3, 4, 5, 6, 7, 8, 9, 10]\n",
            "[1, 3, 5, 7, 9]\n",
            "[1, 4, 7, 10]\n"
          ]
        }
      ]
    },
    {
      "cell_type": "code",
      "source": [
        "print(numbers[::])\n",
        "print(numbers[::-1])\n",
        "print(numbers[::-2])\n",
        "print(numbers[::-3])"
      ],
      "metadata": {
        "colab": {
          "base_uri": "https://localhost:8080/"
        },
        "id": "35kcUi5T45Jv",
        "outputId": "609b6361-a064-4853-fc81-dc7acde360fb"
      },
      "execution_count": 116,
      "outputs": [
        {
          "output_type": "stream",
          "name": "stdout",
          "text": [
            "[1, 2, 3, 4, 5, 6, 7, 8, 9, 10]\n",
            "[10, 9, 8, 7, 6, 5, 4, 3, 2, 1]\n",
            "[10, 8, 6, 4, 2]\n",
            "[10, 7, 4, 1]\n"
          ]
        }
      ]
    },
    {
      "cell_type": "code",
      "source": [
        "### Iterating over list"
      ],
      "metadata": {
        "id": "iQJ-OYhS545k"
      },
      "execution_count": 117,
      "outputs": []
    },
    {
      "cell_type": "code",
      "source": [
        "for number in numbers:\n",
        "  print(number)"
      ],
      "metadata": {
        "colab": {
          "base_uri": "https://localhost:8080/"
        },
        "id": "8a9gzjr96MN7",
        "outputId": "e288a1f1-f373-4bda-b3bd-86a24c3c5520"
      },
      "execution_count": 118,
      "outputs": [
        {
          "output_type": "stream",
          "name": "stdout",
          "text": [
            "1\n",
            "2\n",
            "3\n",
            "4\n",
            "5\n",
            "6\n",
            "7\n",
            "8\n",
            "9\n",
            "10\n"
          ]
        }
      ]
    },
    {
      "cell_type": "code",
      "source": [
        "## Iterating with index\n",
        "for index,number in enumerate(numbers):\n",
        "  print(index, number)"
      ],
      "metadata": {
        "colab": {
          "base_uri": "https://localhost:8080/"
        },
        "id": "iabYLCHA6bR8",
        "outputId": "02dc75be-9df2-4a01-e69c-a4c776549e0f"
      },
      "execution_count": 129,
      "outputs": [
        {
          "output_type": "stream",
          "name": "stdout",
          "text": [
            "0 1\n",
            "1 2\n",
            "2 3\n",
            "3 4\n",
            "4 5\n",
            "5 6\n",
            "6 7\n",
            "7 8\n",
            "8 9\n",
            "9 10\n"
          ]
        }
      ]
    },
    {
      "cell_type": "code",
      "source": [
        "# list comprehension\n",
        "lst = []\n",
        "for x in range(10):\n",
        "  lst.append(x**2)\n",
        "  # print(x)\n",
        "  # print(lst)\n",
        "\n",
        "print(lst)"
      ],
      "metadata": {
        "colab": {
          "base_uri": "https://localhost:8080/"
        },
        "id": "Ha9_fRuS61GF",
        "outputId": "cfb36b2c-8381-4f6b-ac6e-821f187b57a3"
      },
      "execution_count": 133,
      "outputs": [
        {
          "output_type": "stream",
          "name": "stdout",
          "text": [
            "[0, 1, 4, 9, 16, 25, 36, 49, 64, 81]\n"
          ]
        }
      ]
    },
    {
      "cell_type": "code",
      "source": [
        "[x**2 for x in range(10)] # list comprehension"
      ],
      "metadata": {
        "colab": {
          "base_uri": "https://localhost:8080/"
        },
        "id": "iYg06JV-8i5m",
        "outputId": "f521695c-be07-4782-cf5c-44b0df9f0737"
      },
      "execution_count": 136,
      "outputs": [
        {
          "output_type": "execute_result",
          "data": {
            "text/plain": [
              "[0, 1, 4, 9, 16, 25, 36, 49, 64, 81]"
            ]
          },
          "metadata": {},
          "execution_count": 136
        }
      ]
    },
    {
      "cell_type": "code",
      "source": [
        "# list comprehension\n",
        "# Basic Syantax             [expression for item in iterable]\n",
        "# With Conditional Logic    [ expression for item in iterable if condition]\n",
        "# Nested List Comprehension [expression for item_1 in iterable_1 for item_2 in iterable_2]"
      ],
      "metadata": {
        "id": "bEDKrKD69T7M"
      },
      "execution_count": 149,
      "outputs": []
    },
    {
      "cell_type": "code",
      "source": [
        "## Basic list comprehension\n",
        "sqaure = [num**2 for num in range(10)]\n",
        "print(sqaure)"
      ],
      "metadata": {
        "colab": {
          "base_uri": "https://localhost:8080/"
        },
        "id": "4c34JpDm_0fb",
        "outputId": "0f408c40-f8b3-4538-dd17-baa8381c13ee"
      },
      "execution_count": 139,
      "outputs": [
        {
          "output_type": "stream",
          "name": "stdout",
          "text": [
            "[0, 1, 4, 9, 16, 25, 36, 49, 64, 81]\n"
          ]
        }
      ]
    },
    {
      "cell_type": "code",
      "source": [
        "## List comprehension with condition\n",
        "lst = []\n",
        "for i in range(10):\n",
        "  if i%2==0:\n",
        "    lst.append(i)\n",
        "print(lst)"
      ],
      "metadata": {
        "colab": {
          "base_uri": "https://localhost:8080/"
        },
        "id": "rsLuxwMR-2TC",
        "outputId": "a00798c2-7a22-4a5c-a6b1-72c0d3dbbf20"
      },
      "execution_count": 145,
      "outputs": [
        {
          "output_type": "stream",
          "name": "stdout",
          "text": [
            "[0, 2, 4, 6, 8]\n"
          ]
        }
      ]
    },
    {
      "cell_type": "code",
      "source": [
        "even_numbers = [num for num in range(10) if num%2==0]\n",
        "print(even_numbers)"
      ],
      "metadata": {
        "colab": {
          "base_uri": "https://localhost:8080/"
        },
        "id": "uG4q0J0wDhSK",
        "outputId": "60b7b012-5eed-4ebb-c787-5ac92b7eb34d"
      },
      "execution_count": 148,
      "outputs": [
        {
          "output_type": "stream",
          "name": "stdout",
          "text": [
            "[0, 2, 4, 6, 8]\n"
          ]
        }
      ]
    },
    {
      "cell_type": "code",
      "source": [
        "# Nested List Comprehension\n",
        "\n",
        "lst_1 = [1, 2, 3, 4, 5,]\n",
        "lst_2 = ['a', 'b', 'c', 'd', 'e']\n",
        "\n",
        "pair = [[i,j] for i in lst_1 for j in lst_2]\n",
        "\n",
        "print(pair)"
      ],
      "metadata": {
        "colab": {
          "base_uri": "https://localhost:8080/"
        },
        "id": "jcTBkKWGEIiT",
        "outputId": "116eda1d-3e40-49cf-91d6-f9c556e8e552"
      },
      "execution_count": 151,
      "outputs": [
        {
          "output_type": "stream",
          "name": "stdout",
          "text": [
            "[[1, 'a'], [1, 'b'], [1, 'c'], [1, 'd'], [1, 'e'], [2, 'a'], [2, 'b'], [2, 'c'], [2, 'd'], [2, 'e'], [3, 'a'], [3, 'b'], [3, 'c'], [3, 'd'], [3, 'e'], [4, 'a'], [4, 'b'], [4, 'c'], [4, 'd'], [4, 'e'], [5, 'a'], [5, 'b'], [5, 'c'], [5, 'd'], [5, 'e']]\n"
          ]
        }
      ]
    },
    {
      "cell_type": "code",
      "source": [
        "# List comprehension with function calls\n",
        "\n",
        "words = [\"hello\", \"world\", \"python\", \"list\", \"comprehension\"]\n",
        "lenghts = [len(word) for word in words]\n",
        "print(lenghts)"
      ],
      "metadata": {
        "colab": {
          "base_uri": "https://localhost:8080/"
        },
        "id": "Q0smK_1bGEnF",
        "outputId": "701a787f-aef5-4864-be4b-403f0a499dfb"
      },
      "execution_count": 152,
      "outputs": [
        {
          "output_type": "stream",
          "name": "stdout",
          "text": [
            "[5, 5, 6, 4, 13]\n"
          ]
        }
      ]
    },
    {
      "cell_type": "code",
      "source": [],
      "metadata": {
        "id": "lzJpzM_vHUb9"
      },
      "execution_count": null,
      "outputs": []
    }
  ]
}